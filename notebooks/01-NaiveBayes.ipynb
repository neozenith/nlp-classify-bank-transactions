{
 "cells": [
  {
   "cell_type": "code",
   "execution_count": null,
   "id": "62b626b1-788f-41d4-b12a-c615529cd682",
   "metadata": {},
   "outputs": [],
   "source": [
    "import utils\n",
    "from pathlib import Path\n",
    "import pandas as pd"
   ]
  },
  {
   "cell_type": "code",
   "execution_count": null,
   "id": "b57892ae-3cf3-4332-9c81-629096c3cd36",
   "metadata": {
    "tags": []
   },
   "outputs": [],
   "source": [
    "df = utils.load_transactions(Path(\"../data/jointexpenses/\"))\n",
    "df = utils.clean(df)\n",
    "print(df.shape)\n",
    "df = utils.deduplicate_transactions(df)\n",
    "print(df.shape)\n",
    "df = utils.classify_transactions(df)\n",
    "df.sample(5)"
   ]
  },
  {
   "cell_type": "code",
   "execution_count": null,
   "id": "b3964bc5-b814-4045-ab14-916fdbf3e5b0",
   "metadata": {},
   "outputs": [],
   "source": [
    "df[df.classification == \"Other\"]"
   ]
  },
  {
   "cell_type": "code",
   "execution_count": null,
   "id": "449134c0-40ef-402b-bd99-e2f7f40ffc12",
   "metadata": {},
   "outputs": [],
   "source": []
  },
  {
   "cell_type": "code",
   "execution_count": null,
   "id": "595b5d5b-fa61-4d1c-926f-0d965b787162",
   "metadata": {},
   "outputs": [],
   "source": []
  }
 ],
 "metadata": {
  "kernelspec": {
   "display_name": "Python 3 (ipykernel)",
   "language": "python",
   "name": "python3"
  },
  "language_info": {
   "codemirror_mode": {
    "name": "ipython",
    "version": 3
   },
   "file_extension": ".py",
   "mimetype": "text/x-python",
   "name": "python",
   "nbconvert_exporter": "python",
   "pygments_lexer": "ipython3",
   "version": "3.9.9"
  }
 },
 "nbformat": 4,
 "nbformat_minor": 5
}
