{
 "cells": [
  {
   "cell_type": "code",
   "execution_count": 1,
   "id": "62b626b1-788f-41d4-b12a-c615529cd682",
   "metadata": {
    "execution": {
     "iopub.execute_input": "2021-12-15T11:25:20.117910Z",
     "iopub.status.busy": "2021-12-15T11:25:20.116867Z",
     "iopub.status.idle": "2021-12-15T11:25:20.646470Z",
     "shell.execute_reply": "2021-12-15T11:25:20.646883Z"
    },
    "tags": []
   },
   "outputs": [],
   "source": [
    "import utils\n",
    "from pathlib import Path\n",
    "import pandas as pd"
   ]
  },
  {
   "cell_type": "code",
   "execution_count": 2,
   "id": "b57892ae-3cf3-4332-9c81-629096c3cd36",
   "metadata": {
    "execution": {
     "iopub.execute_input": "2021-12-15T11:25:20.651953Z",
     "iopub.status.busy": "2021-12-15T11:25:20.651383Z",
     "iopub.status.idle": "2021-12-15T11:25:20.730854Z",
     "shell.execute_reply": "2021-12-15T11:25:20.731348Z"
    },
    "tags": []
   },
   "outputs": [
    {
     "name": "stdout",
     "output_type": "stream",
     "text": [
      "(1706, 5)\n",
      "Found 507 duplicated entries \n",
      "and 0 duplicates on the same day from the same file.\n",
      "(765, 5)\n"
     ]
    }
   ],
   "source": [
    "df = utils.load_transactions(Path(\"../data/jointexpenses/\"))\n",
    "df = utils.clean(df)\n",
    "print(df.shape)\n",
    "df = utils.deduplicate_transactions(df)\n",
    "print(df.shape)\n",
    "df = utils.classify_transactions(df)\n",
    "\n",
    "other_transactions = df[df.classification == \"Other\"]\n",
    "ground_truth_transactions = df[df.classification != \"Other\"]\n",
    "\n",
    "X = ground_truth_transactions.desc\n",
    "y = ground_truth_transactions.classification"
   ]
  },
  {
   "cell_type": "code",
   "execution_count": 3,
   "id": "b3964bc5-b814-4045-ab14-916fdbf3e5b0",
   "metadata": {
    "execution": {
     "iopub.execute_input": "2021-12-15T11:25:20.735401Z",
     "iopub.status.busy": "2021-12-15T11:25:20.734761Z",
     "iopub.status.idle": "2021-12-15T11:25:21.280567Z",
     "shell.execute_reply": "2021-12-15T11:25:21.280988Z"
    },
    "tags": []
   },
   "outputs": [],
   "source": [
    "from sklearn.model_selection import train_test_split\n",
    "from sklearn.feature_extraction.text import CountVectorizer"
   ]
  },
  {
   "cell_type": "code",
   "execution_count": 4,
   "id": "449134c0-40ef-402b-bd99-e2f7f40ffc12",
   "metadata": {
    "execution": {
     "iopub.execute_input": "2021-12-15T11:25:21.291776Z",
     "iopub.status.busy": "2021-12-15T11:25:21.291201Z",
     "iopub.status.idle": "2021-12-15T11:25:21.295505Z",
     "shell.execute_reply": "2021-12-15T11:25:21.295910Z"
    },
    "tags": []
   },
   "outputs": [],
   "source": [
    "X_train, X_test, y_train, y_test = train_test_split(X, y, random_state=1)\n",
    "vect = CountVectorizer()\n",
    "X_train_dtm = vect.fit_transform(X_train)\n",
    "X_test_dtm = vect.transform(X_test)\n",
    "# print(vect.vocabulary_)"
   ]
  },
  {
   "cell_type": "code",
   "execution_count": 5,
   "id": "595b5d5b-fa61-4d1c-926f-0d965b787162",
   "metadata": {
    "execution": {
     "iopub.execute_input": "2021-12-15T11:25:21.300354Z",
     "iopub.status.busy": "2021-12-15T11:25:21.299656Z",
     "iopub.status.idle": "2021-12-15T11:25:22.002120Z",
     "shell.execute_reply": "2021-12-15T11:25:22.002517Z"
    }
   },
   "outputs": [],
   "source": [
    "import matplotlib.pyplot as plt\n",
    "from sklearn.naive_bayes import MultinomialNB\n",
    "from sklearn.metrics import accuracy_score, precision_recall_fscore_support\n",
    "from sklearn.metrics import ConfusionMatrixDisplay"
   ]
  },
  {
   "cell_type": "code",
   "execution_count": 6,
   "id": "ec155e8b-9380-4031-8217-f86887c5f7a5",
   "metadata": {
    "execution": {
     "iopub.execute_input": "2021-12-15T11:25:22.009104Z",
     "iopub.status.busy": "2021-12-15T11:25:22.008170Z",
     "iopub.status.idle": "2021-12-15T11:25:22.011619Z",
     "shell.execute_reply": "2021-12-15T11:25:22.012095Z"
    }
   },
   "outputs": [],
   "source": [
    "config = {}\n",
    "model = MultinomialNB(**config)\n",
    "model.fit(X_train_dtm, y_train)\n",
    "y_pred_class = model.predict(X_test_dtm)"
   ]
  },
  {
   "cell_type": "code",
   "execution_count": 7,
   "id": "71336eaa-cab9-4f4c-8094-93075249ce15",
   "metadata": {
    "execution": {
     "iopub.execute_input": "2021-12-15T11:25:22.016914Z",
     "iopub.status.busy": "2021-12-15T11:25:22.016279Z",
     "iopub.status.idle": "2021-12-15T11:25:22.496079Z",
     "shell.execute_reply": "2021-12-15T11:25:22.496476Z"
    }
   },
   "outputs": [
    {
     "name": "stdout",
     "output_type": "stream",
     "text": [
      "Accuracy:  0.9180327868852459\n",
      "(Precision, Recall, F1-score, support): (0.9275956284153005, 0.9180327868852459, 0.913685923913376, None)\n"
     ]
    },
    {
     "data": {
      "image/png": "[encoded data removed]",
      "text/plain": [
       "<Figure size 432x288 with 2 Axes>"
      ]
     },
     "metadata": {
      "needs_background": "light"
     },
     "output_type": "display_data"
    }
   ],
   "source": [
    "print(\"Accuracy: \", accuracy_score(y_test, y_pred_class))\n",
    "print(\n",
    "    f\"(Precision, Recall, F1-score, support): {precision_recall_fscore_support(y_test, y_pred_class, average='weighted')}\"\n",
    ")\n",
    "ConfusionMatrixDisplay.from_predictions(y_test, y_pred_class)\n",
    "plt.show()"
   ]
  },
  {
   "cell_type": "code",
   "execution_count": null,
   "id": "dca81a64-e46e-41a2-819f-bee6529b2bf7",
   "metadata": {},
   "outputs": [],
   "source": []
  }
 ],
 "metadata": {
  "kernelspec": {
   "display_name": "Python 3 (ipykernel)",
   "language": "python",
   "name": "python3"
  },
  "language_info": {
   "codemirror_mode": {
    "name": "ipython",
    "version": 3
   },
   "file_extension": ".py",
   "mimetype": "text/x-python",
   "name": "python",
   "nbconvert_exporter": "python",
   "pygments_lexer": "ipython3",
   "version": "3.9.9"
  }
 },
 "nbformat": 4,
 "nbformat_minor": 5
}
