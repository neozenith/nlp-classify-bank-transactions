{
 "cells": [
  {
   "cell_type": "code",
   "execution_count": null,
   "id": "05155c10-c6c4-4dac-90d6-61b756b12bbc",
   "metadata": {},
   "outputs": [],
   "source": [
    "import utils\n",
    "from pathlib import Path\n",
    "import pandas as pd"
   ]
  },
  {
   "cell_type": "code",
   "execution_count": null,
   "id": "5e685182-1003-4be4-b98d-7ad442262c82",
   "metadata": {},
   "outputs": [],
   "source": [
    "df = utils.load_transactions(Path(\"../data/jointexpenses/\"))\n",
    "df = utils.clean(df)\n",
    "print(df.shape)\n",
    "df = utils.deduplicate_transactions(df)\n",
    "print(df.shape)\n",
    "df = utils.classify_transactions(df)\n",
    "\n",
    "other_transactions = df[df.classification == \"Other\"]\n",
    "ground_truth_transactions = df[df.classification != \"Other\"]\n",
    "\n",
    "X = ground_truth_transactions.desc\n",
    "y = ground_truth_transactions.classification"
   ]
  },
  {
   "cell_type": "code",
   "execution_count": null,
   "id": "e56c5c15-5f64-4242-a7af-4ac89972618f",
   "metadata": {},
   "outputs": [],
   "source": [
    "from sklearn.model_selection import train_test_split\n",
    "from sklearn.feature_extraction.text import CountVectorizer"
   ]
  },
  {
   "cell_type": "code",
   "execution_count": null,
   "id": "1e2862d4-f3c7-43e4-8f38-a42a2c7e829d",
   "metadata": {},
   "outputs": [],
   "source": [
    "X_train, X_test, y_train, y_test = train_test_split(X, y, random_state=1)\n",
    "vect = CountVectorizer()\n",
    "X_train_dtm = vect.fit_transform(X_train)\n",
    "X_test_dtm = vect.transform(X_test)\n",
    "print(vect.vocabulary_)"
   ]
  },
  {
   "cell_type": "code",
   "execution_count": null,
   "id": "2699a19d-9fdd-4bb2-83b7-39cede730db4",
   "metadata": {},
   "outputs": [],
   "source": []
  }
 ],
 "metadata": {
  "kernelspec": {
   "display_name": "Python 3 (ipykernel)",
   "language": "python",
   "name": "python3"
  },
  "language_info": {
   "codemirror_mode": {
    "name": "ipython",
    "version": 3
   },
   "file_extension": ".py",
   "mimetype": "text/x-python",
   "name": "python",
   "nbconvert_exporter": "python",
   "pygments_lexer": "ipython3",
   "version": "3.9.9"
  }
 },
 "nbformat": 4,
 "nbformat_minor": 5
}
