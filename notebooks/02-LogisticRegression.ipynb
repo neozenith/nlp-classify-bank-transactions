{
 "cells": [
  {
   "cell_type": "code",
   "execution_count": 1,
   "id": "05155c10-c6c4-4dac-90d6-61b756b12bbc",
   "metadata": {
    "execution": {
     "iopub.execute_input": "2021-12-15T12:33:18.888248Z",
     "iopub.status.busy": "2021-12-15T12:33:18.887672Z",
     "iopub.status.idle": "2021-12-15T12:33:19.618611Z",
     "shell.execute_reply": "2021-12-15T12:33:19.619186Z"
    }
   },
   "outputs": [],
   "source": [
    "import utils\n",
    "from pathlib import Path\n",
    "import pandas as pd"
   ]
  },
  {
   "cell_type": "code",
   "execution_count": 2,
   "id": "5e685182-1003-4be4-b98d-7ad442262c82",
   "metadata": {
    "execution": {
     "iopub.execute_input": "2021-12-15T12:33:19.625063Z",
     "iopub.status.busy": "2021-12-15T12:33:19.624413Z",
     "iopub.status.idle": "2021-12-15T12:33:19.707886Z",
     "shell.execute_reply": "2021-12-15T12:33:19.708372Z"
    }
   },
   "outputs": [
    {
     "name": "stdout",
     "output_type": "stream",
     "text": [
      "(1706, 5)\n",
      "Found 507 duplicated entries \n",
      "and 0 duplicates on the same day from the same file.\n",
      "(765, 5)\n"
     ]
    }
   ],
   "source": [
    "df = utils.load_transactions(Path(\"../data/jointexpenses/\"))\n",
    "df = utils.clean(df)\n",
    "print(df.shape)\n",
    "df = utils.deduplicate_transactions(df)\n",
    "print(df.shape)\n",
    "df = utils.classify_transactions(df)\n",
    "\n",
    "other_transactions = df[df.classification == \"Other\"]\n",
    "ground_truth_transactions = df[df.classification != \"Other\"]\n",
    "\n",
    "X = ground_truth_transactions.desc\n",
    "y = ground_truth_transactions.classification"
   ]
  },
  {
   "cell_type": "code",
   "execution_count": 3,
   "id": "e56c5c15-5f64-4242-a7af-4ac89972618f",
   "metadata": {
    "execution": {
     "iopub.execute_input": "2021-12-15T12:33:19.712773Z",
     "iopub.status.busy": "2021-12-15T12:33:19.711922Z",
     "iopub.status.idle": "2021-12-15T12:33:20.323684Z",
     "shell.execute_reply": "2021-12-15T12:33:20.324613Z"
    }
   },
   "outputs": [],
   "source": [
    "from sklearn.model_selection import train_test_split\n",
    "from sklearn.feature_extraction.text import CountVectorizer"
   ]
  },
  {
   "cell_type": "code",
   "execution_count": 4,
   "id": "1e2862d4-f3c7-43e4-8f38-a42a2c7e829d",
   "metadata": {
    "execution": {
     "iopub.execute_input": "2021-12-15T12:33:20.332758Z",
     "iopub.status.busy": "2021-12-15T12:33:20.329281Z",
     "iopub.status.idle": "2021-12-15T12:33:20.336958Z",
     "shell.execute_reply": "2021-12-15T12:33:20.337370Z"
    }
   },
   "outputs": [],
   "source": [
    "X_train, X_test, y_train, y_test = train_test_split(X, y, random_state=1)\n",
    "vect = CountVectorizer()\n",
    "X_train_dtm = vect.fit_transform(X_train)\n",
    "X_test_dtm = vect.transform(X_test)\n",
    "# print(vect.vocabulary_)"
   ]
  },
  {
   "cell_type": "code",
   "execution_count": 5,
   "id": "2699a19d-9fdd-4bb2-83b7-39cede730db4",
   "metadata": {
    "execution": {
     "iopub.execute_input": "2021-12-15T12:33:20.341577Z",
     "iopub.status.busy": "2021-12-15T12:33:20.340969Z",
     "iopub.status.idle": "2021-12-15T12:33:21.084247Z",
     "shell.execute_reply": "2021-12-15T12:33:21.083649Z"
    }
   },
   "outputs": [],
   "source": [
    "import matplotlib.pyplot as plt\n",
    "from sklearn.linear_model import LogisticRegression\n",
    "from sklearn.metrics import accuracy_score, precision_recall_fscore_support\n",
    "from sklearn.metrics import ConfusionMatrixDisplay"
   ]
  },
  {
   "cell_type": "code",
   "execution_count": 6,
   "id": "f3e0582d-1927-46ed-8246-acf324dbdfb1",
   "metadata": {
    "execution": {
     "iopub.execute_input": "2021-12-15T12:33:21.090877Z",
     "iopub.status.busy": "2021-12-15T12:33:21.088019Z",
     "iopub.status.idle": "2021-12-15T12:33:21.121794Z",
     "shell.execute_reply": "2021-12-15T12:33:21.122388Z"
    }
   },
   "outputs": [],
   "source": [
    "config = {\"class_weight\": \"balanced\"}\n",
    "model = LogisticRegression(**config)\n",
    "model.fit(X_train_dtm, y_train)\n",
    "y_pred_class = model.predict(X_test_dtm)"
   ]
  },
  {
   "cell_type": "code",
   "execution_count": 7,
   "id": "4dfcc677-cef9-4556-b9a0-47a2d1c7991a",
   "metadata": {
    "execution": {
     "iopub.execute_input": "2021-12-15T12:33:21.129217Z",
     "iopub.status.busy": "2021-12-15T12:33:21.127177Z",
     "iopub.status.idle": "2021-12-15T12:33:21.616337Z",
     "shell.execute_reply": "2021-12-15T12:33:21.616846Z"
    }
   },
   "outputs": [
    {
     "name": "stdout",
     "output_type": "stream",
     "text": [
      "Accuracy:  0.9726775956284153\n",
      "(Precision, Recall, F1-score, support): (0.9785063752276867, 0.9726775956284153, 0.9736871882938856, None)\n"
     ]
    },
    {
     "data": {
      "image/png": "[encoded data removed]",
      "text/plain": [
       "<Figure size 432x288 with 2 Axes>"
      ]
     },
     "metadata": {
      "needs_background": "light"
     },
     "output_type": "display_data"
    }
   ],
   "source": [
    "print(\"Accuracy: \", accuracy_score(y_test, y_pred_class))\n",
    "print(\n",
    "    f\"(Precision, Recall, F1-score, support): {precision_recall_fscore_support(y_test, y_pred_class, average='weighted')}\"\n",
    ")\n",
    "ConfusionMatrixDisplay.from_predictions(y_test, y_pred_class)\n",
    "plt.show()"
   ]
  },
  {
   "cell_type": "code",
   "execution_count": null,
   "id": "b19ea8b4-219c-4fbc-bb85-81bcf307435e",
   "metadata": {},
   "outputs": [],
   "source": []
  }
 ],
 "metadata": {
  "kernelspec": {
   "display_name": "Python 3 (ipykernel)",
   "language": "python",
   "name": "python3"
  },
  "language_info": {
   "codemirror_mode": {
    "name": "ipython",
    "version": 3
   },
   "file_extension": ".py",
   "mimetype": "text/x-python",
   "name": "python",
   "nbconvert_exporter": "python",
   "pygments_lexer": "ipython3",
   "version": "3.9.9"
  }
 },
 "nbformat": 4,
 "nbformat_minor": 5
}
