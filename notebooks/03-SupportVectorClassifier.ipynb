{
 "cells": [
  {
   "cell_type": "code",
   "execution_count": 1,
   "id": "3e3f707b-0cc8-475c-b726-4dd37ab82b60",
   "metadata": {},
   "outputs": [],
   "source": [
    "import utils\n",
    "from pathlib import Path\n",
    "import pandas as pd"
   ]
  },
  {
   "cell_type": "code",
   "execution_count": 2,
   "id": "a1ec2f0f-71d0-460d-8a96-7626137b678b",
   "metadata": {},
   "outputs": [
    {
     "name": "stdout",
     "output_type": "stream",
     "text": [
      "(1706, 5)\n",
      "Found 507 duplicated entries \n",
      "and 0 duplicates on the same day from the same file.\n",
      "(765, 5)\n"
     ]
    }
   ],
   "source": [
    "df = utils.load_transactions(Path(\"../data/jointexpenses/\"))\n",
    "df = utils.clean(df)\n",
    "print(df.shape)\n",
    "df = utils.deduplicate_transactions(df)\n",
    "print(df.shape)\n",
    "df = utils.classify_transactions(df)\n",
    "\n",
    "other_transactions = df[df.classification == \"Other\"]\n",
    "ground_truth_transactions = df[df.classification != \"Other\"]\n",
    "\n",
    "X = ground_truth_transactions.desc\n",
    "y = ground_truth_transactions.classification"
   ]
  },
  {
   "cell_type": "code",
   "execution_count": 3,
   "id": "c322e42a-7c3e-4a59-8aae-e714e830edb1",
   "metadata": {},
   "outputs": [],
   "source": [
    "from sklearn.model_selection import train_test_split\n",
    "from sklearn.feature_extraction.text import CountVectorizer"
   ]
  },
  {
   "cell_type": "code",
   "execution_count": 4,
   "id": "67dffdb1-e5a8-450a-b13c-f19dfb6dfa69",
   "metadata": {},
   "outputs": [],
   "source": [
    "X_train, X_test, y_train, y_test = train_test_split(X, y, random_state=1)\n",
    "vect = CountVectorizer()\n",
    "X_train_dtm = vect.fit_transform(X_train)\n",
    "X_test_dtm = vect.transform(X_test)\n",
    "# print(vect.vocabulary_)"
   ]
  },
  {
   "cell_type": "code",
   "execution_count": 5,
   "id": "b6796c1f-89ed-4c7f-988d-c21ec9f20c05",
   "metadata": {},
   "outputs": [],
   "source": [
    "from sklearn.svm import LinearSVC\n",
    "from sklearn.metrics import accuracy_score"
   ]
  },
  {
   "cell_type": "code",
   "execution_count": 6,
   "id": "ebd3ebf0-afc6-4cfa-ab64-1e88ae6a1d29",
   "metadata": {},
   "outputs": [
    {
     "name": "stdout",
     "output_type": "stream",
     "text": [
      "Accuracy:  0.9836065573770492\n"
     ]
    }
   ],
   "source": [
    "config = {\"class_weight\":\"balanced\"}\n",
    "model = LinearSVC(**config)\n",
    "model.fit(X_train_dtm, y_train)\n",
    "y_pred_class = model.predict(X_test_dtm)\n",
    "print(\"Accuracy: \", accuracy_score(y_test, y_pred_class))"
   ]
  },
  {
   "cell_type": "code",
   "execution_count": null,
   "id": "265bb176-3eeb-4e96-ac07-6dc5949d4d4e",
   "metadata": {},
   "outputs": [],
   "source": []
  }
 ],
 "metadata": {
  "kernelspec": {
   "display_name": "Python 3 (ipykernel)",
   "language": "python",
   "name": "python3"
  },
  "language_info": {
   "codemirror_mode": {
    "name": "ipython",
    "version": 3
   },
   "file_extension": ".py",
   "mimetype": "text/x-python",
   "name": "python",
   "nbconvert_exporter": "python",
   "pygments_lexer": "ipython3",
   "version": "3.9.9"
  }
 },
 "nbformat": 4,
 "nbformat_minor": 5
}
